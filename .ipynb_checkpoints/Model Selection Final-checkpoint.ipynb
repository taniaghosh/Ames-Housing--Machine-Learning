{
 "cells": [
  {
   "cell_type": "markdown",
   "metadata": {},
   "source": [
    "# AMES HOUSING PROJECT"
   ]
  },
  {
   "cell_type": "markdown",
   "metadata": {},
   "source": [
    "## MODEL SELECTON"
   ]
  },
  {
   "cell_type": "code",
   "execution_count": 11,
   "metadata": {},
   "outputs": [],
   "source": [
    "import numpy as np\n",
    "import pandas as pd\n",
    "import seaborn as sns\n",
    "import matplotlib.pyplot as plt\n",
    "%matplotlib inline\n",
    "from scipy import stats\n",
    "plt.rcParams['figure.figsize'] = (12,8)\n",
    "\n",
    "from sklearn.model_selection import train_test_split, cross_val_score\n",
    "from sklearn.linear_model import LinearRegression\n",
    "from sklearn.metrics import mean_squared_error, mean_absolute_error\n"
   ]
  },
  {
   "cell_type": "code",
   "execution_count": 2,
   "metadata": {},
   "outputs": [],
   "source": [
    "#Importing the train data\n",
    "train_final = pd.read_csv('train_final.csv')\n",
    "train_final = train_final.drop(['Unnamed: 0'], axis = 1)# dropped the added column Unnamed\n"
   ]
  },
  {
   "cell_type": "code",
   "execution_count": 3,
   "metadata": {},
   "outputs": [
    {
     "data": {
      "text/plain": [
       "(1460, 261)"
      ]
     },
     "execution_count": 3,
     "metadata": {},
     "output_type": "execute_result"
    }
   ],
   "source": [
    "train_final.shape"
   ]
  },
  {
   "cell_type": "code",
   "execution_count": 5,
   "metadata": {},
   "outputs": [
    {
     "data": {
      "text/html": [
       "<div>\n",
       "<style scoped>\n",
       "    .dataframe tbody tr th:only-of-type {\n",
       "        vertical-align: middle;\n",
       "    }\n",
       "\n",
       "    .dataframe tbody tr th {\n",
       "        vertical-align: top;\n",
       "    }\n",
       "\n",
       "    .dataframe thead th {\n",
       "        text-align: right;\n",
       "    }\n",
       "</style>\n",
       "<table border=\"1\" class=\"dataframe\">\n",
       "  <thead>\n",
       "    <tr style=\"text-align: right;\">\n",
       "      <th></th>\n",
       "      <th>LotFrontage</th>\n",
       "      <th>LotArea</th>\n",
       "      <th>LandSlope</th>\n",
       "      <th>OverallQual</th>\n",
       "      <th>YearBuilt</th>\n",
       "      <th>YearRemodAdd</th>\n",
       "      <th>MasVnrArea</th>\n",
       "      <th>ExterQual</th>\n",
       "      <th>BsmtQual</th>\n",
       "      <th>BsmtExposure</th>\n",
       "      <th>...</th>\n",
       "      <th>SaleType_ConLI</th>\n",
       "      <th>SaleType_ConLw</th>\n",
       "      <th>SaleType_New</th>\n",
       "      <th>SaleType_Oth</th>\n",
       "      <th>SaleType_WD</th>\n",
       "      <th>SaleCondition_AdjLand</th>\n",
       "      <th>SaleCondition_Alloca</th>\n",
       "      <th>SaleCondition_Family</th>\n",
       "      <th>SaleCondition_Normal</th>\n",
       "      <th>SaleCondition_Partial</th>\n",
       "    </tr>\n",
       "  </thead>\n",
       "  <tbody>\n",
       "    <tr>\n",
       "      <th>0</th>\n",
       "      <td>0.557449</td>\n",
       "      <td>11622</td>\n",
       "      <td>0.0</td>\n",
       "      <td>4.0</td>\n",
       "      <td>1961</td>\n",
       "      <td>1961</td>\n",
       "      <td>0.0</td>\n",
       "      <td>3.0</td>\n",
       "      <td>3.0</td>\n",
       "      <td>1.0</td>\n",
       "      <td>...</td>\n",
       "      <td>0</td>\n",
       "      <td>0</td>\n",
       "      <td>0</td>\n",
       "      <td>0</td>\n",
       "      <td>1</td>\n",
       "      <td>0</td>\n",
       "      <td>0</td>\n",
       "      <td>0</td>\n",
       "      <td>1</td>\n",
       "      <td>0</td>\n",
       "    </tr>\n",
       "    <tr>\n",
       "      <th>1</th>\n",
       "      <td>0.603098</td>\n",
       "      <td>14267</td>\n",
       "      <td>0.0</td>\n",
       "      <td>5.0</td>\n",
       "      <td>1958</td>\n",
       "      <td>1958</td>\n",
       "      <td>108.0</td>\n",
       "      <td>3.0</td>\n",
       "      <td>3.0</td>\n",
       "      <td>1.0</td>\n",
       "      <td>...</td>\n",
       "      <td>0</td>\n",
       "      <td>0</td>\n",
       "      <td>0</td>\n",
       "      <td>0</td>\n",
       "      <td>1</td>\n",
       "      <td>0</td>\n",
       "      <td>0</td>\n",
       "      <td>0</td>\n",
       "      <td>1</td>\n",
       "      <td>0</td>\n",
       "    </tr>\n",
       "    <tr>\n",
       "      <th>2</th>\n",
       "      <td>0.280296</td>\n",
       "      <td>13830</td>\n",
       "      <td>0.0</td>\n",
       "      <td>4.0</td>\n",
       "      <td>1997</td>\n",
       "      <td>1998</td>\n",
       "      <td>0.0</td>\n",
       "      <td>3.0</td>\n",
       "      <td>4.0</td>\n",
       "      <td>1.0</td>\n",
       "      <td>...</td>\n",
       "      <td>0</td>\n",
       "      <td>0</td>\n",
       "      <td>0</td>\n",
       "      <td>0</td>\n",
       "      <td>1</td>\n",
       "      <td>0</td>\n",
       "      <td>0</td>\n",
       "      <td>0</td>\n",
       "      <td>1</td>\n",
       "      <td>0</td>\n",
       "    </tr>\n",
       "  </tbody>\n",
       "</table>\n",
       "<p>3 rows × 255 columns</p>\n",
       "</div>"
      ],
      "text/plain": [
       "   LotFrontage  LotArea  LandSlope  OverallQual  YearBuilt  YearRemodAdd  \\\n",
       "0     0.557449    11622        0.0          4.0       1961          1961   \n",
       "1     0.603098    14267        0.0          5.0       1958          1958   \n",
       "2     0.280296    13830        0.0          4.0       1997          1998   \n",
       "\n",
       "   MasVnrArea  ExterQual  BsmtQual  BsmtExposure  ...  SaleType_ConLI  \\\n",
       "0         0.0        3.0       3.0           1.0  ...               0   \n",
       "1       108.0        3.0       3.0           1.0  ...               0   \n",
       "2         0.0        3.0       4.0           1.0  ...               0   \n",
       "\n",
       "   SaleType_ConLw  SaleType_New  SaleType_Oth  SaleType_WD  \\\n",
       "0               0             0             0            1   \n",
       "1               0             0             0            1   \n",
       "2               0             0             0            1   \n",
       "\n",
       "   SaleCondition_AdjLand  SaleCondition_Alloca  SaleCondition_Family  \\\n",
       "0                      0                     0                     0   \n",
       "1                      0                     0                     0   \n",
       "2                      0                     0                     0   \n",
       "\n",
       "   SaleCondition_Normal  SaleCondition_Partial  \n",
       "0                     1                      0  \n",
       "1                     1                      0  \n",
       "2                     1                      0  \n",
       "\n",
       "[3 rows x 255 columns]"
      ]
     },
     "execution_count": 5,
     "metadata": {},
     "output_type": "execute_result"
    }
   ],
   "source": [
    "#Importing the test data\n",
    "test_final = pd.read_csv('test_final.csv')\n",
    "test_final = test_final.drop(['Unnamed: 0'], axis = 1)\n",
    "test_final.head(3)"
   ]
  },
  {
   "cell_type": "code",
   "execution_count": 6,
   "metadata": {},
   "outputs": [
    {
     "data": {
      "text/plain": [
       "(1459, 255)"
      ]
     },
     "execution_count": 6,
     "metadata": {},
     "output_type": "execute_result"
    }
   ],
   "source": [
    "test_final.shape"
   ]
  },
  {
   "cell_type": "markdown",
   "metadata": {},
   "source": [
    "### Train-test split"
   ]
  },
  {
   "cell_type": "code",
   "execution_count": 7,
   "metadata": {},
   "outputs": [],
   "source": [
    "#Assigning the train data X(dropped sale price and Log sale price) and train data Y(which is Log Sale price)\n",
    "\n",
    "train_final_x = train_final.drop(['SalePrice', 'LogSalePrice'], axis = 1)\n",
    "train_final_y = train_final['LogSalePrice']"
   ]
  },
  {
   "cell_type": "code",
   "execution_count": 8,
   "metadata": {},
   "outputs": [],
   "source": [
    "from sklearn.model_selection import train_test_split\n",
    "X_train, X_test, y_train, y_test = train_test_split(train_final_x, train_final_y, test_size = 0.2, random_state = 42)"
   ]
  },
  {
   "cell_type": "code",
   "execution_count": 155,
   "metadata": {},
   "outputs": [
    {
     "data": {
      "text/html": [
       "<div>\n",
       "<style scoped>\n",
       "    .dataframe tbody tr th:only-of-type {\n",
       "        vertical-align: middle;\n",
       "    }\n",
       "\n",
       "    .dataframe tbody tr th {\n",
       "        vertical-align: top;\n",
       "    }\n",
       "\n",
       "    .dataframe thead th {\n",
       "        text-align: right;\n",
       "    }\n",
       "</style>\n",
       "<table border=\"1\" class=\"dataframe\">\n",
       "  <thead>\n",
       "    <tr style=\"text-align: right;\">\n",
       "      <th></th>\n",
       "      <th>Model</th>\n",
       "      <th>R^2_train</th>\n",
       "      <th>R^2_test</th>\n",
       "      <th>MAE</th>\n",
       "      <th>RMSE</th>\n",
       "      <th>y_test</th>\n",
       "      <th>y_predicted</th>\n",
       "    </tr>\n",
       "  </thead>\n",
       "  <tbody>\n",
       "  </tbody>\n",
       "</table>\n",
       "</div>"
      ],
      "text/plain": [
       "Empty DataFrame\n",
       "Columns: [Model, R^2_train, R^2_test, MAE, RMSE, y_test, y_predicted]\n",
       "Index: []"
      ]
     },
     "execution_count": 155,
     "metadata": {},
     "output_type": "execute_result"
    }
   ],
   "source": [
    "results = pd.DataFrame(columns = ['Model','R^2_train','R^2_test', 'MAE', 'RMSE', 'y_test', 'y_predicted'])\n",
    "results"
   ]
  },
  {
   "cell_type": "markdown",
   "metadata": {},
   "source": [
    "# Multiple Linear Regression"
   ]
  },
  {
   "cell_type": "code",
   "execution_count": 10,
   "metadata": {},
   "outputs": [
    {
     "name": "stdout",
     "output_type": "stream",
     "text": [
      "R^2 for train set: 0.924\n",
      "R^2 for test set 0.896\n",
      "--------------------------------------------------\n",
      "MAE for train set 0.077\n",
      "MAE for test set 0.101\n",
      "--------------------------------------------------\n",
      "RMSE for the train set 0.108\n",
      "RMSE for the test set 0.140\n"
     ]
    }
   ],
   "source": [
    "from sklearn.linear_model import LinearRegression\n",
    "from sklearn.metrics import mean_squared_error, mean_absolute_error\n",
    "\n",
    "\n",
    "lr = LinearRegression()\n",
    "lr.fit(X_train, y_train)\n",
    "\n",
    "\n",
    "train_predict_ML = lr.predict(X_train)\n",
    "train_MAE_ML = mean_absolute_error(y_train, train_predict_ML)\n",
    "train_RMSE_ML = np.sqrt(mean_squared_error(y_train, train_predict_ML))\n",
    "\n",
    "test_predict_ML = lr.predict(X_test)\n",
    "test_MAE_ML = mean_absolute_error(y_test, test_predict_ML)\n",
    "test_RMSE_ML = np.sqrt(mean_squared_error(y_test, test_predict_ML))\n",
    "\n",
    "print('R^2 for train set: %.3f' %lr.score(X_train, y_train))\n",
    "print('R^2 for test set %.3f' %lr.score(X_test, y_test))\n",
    "\n",
    "print('-' * 50)\n",
    "\n",
    "print('MAE for train set %.3f' %train_MAE_ML)\n",
    "print('MAE for test set %.3f' %test_MAE_ML)\n",
    "\n",
    "print('-' * 50)\n",
    "\n",
    "print('RMSE for the train set %.3f' %train_RMSE_ML)\n",
    "print('RMSE for the test set %.3f' %test_RMSE_ML)"
   ]
  },
  {
   "cell_type": "markdown",
   "metadata": {},
   "source": [
    "As expected, the multiple linear regression R2 differs between train set (92.6%) and test set (89.6% due to overfitting)"
   ]
  },
  {
   "cell_type": "code",
   "execution_count": 156,
   "metadata": {},
   "outputs": [],
   "source": [
    "#appending the data in results dataframe\n",
    "results = results.append({'Model' : 'Multiple Regression' , 'R^2_train' :92.4, 'R^2_test' :89.6, 'MAE' : 0.108, 'RMSE' : 0.139, \n",
    "                          'y_test' : np.mean(np.exp(y_test)),'y_predicted' : np.mean(np.exp(test_predict_ML))},\n",
    "               ignore_index = True)"
   ]
  },
  {
   "cell_type": "code",
   "execution_count": 13,
   "metadata": {},
   "outputs": [
    {
     "name": "stdout",
     "output_type": "stream",
     "text": [
      "180153.9142966788\n",
      "175780.25277530018\n"
     ]
    }
   ],
   "source": [
    "print(np.mean(np.exp(train_predict_ML)))\n",
    "print(np.mean(np.exp(test_predict_ML)))"
   ]
  },
  {
   "cell_type": "markdown",
   "metadata": {},
   "source": [
    "Due to high variance the predicted sale price of the test and train sets are varies a lot."
   ]
  },
  {
   "cell_type": "markdown",
   "metadata": {},
   "source": [
    "## Cook's Distance "
   ]
  },
  {
   "cell_type": "markdown",
   "metadata": {},
   "source": [
    "Since the linear models as well as tree based models are sensitive to outliers.\n",
    "So removal of outliers would help in better model performace"
   ]
  },
  {
   "cell_type": "markdown",
   "metadata": {},
   "source": [
    "So the outliers were removed by Cook's method"
   ]
  },
  {
   "cell_type": "code",
   "execution_count": 17,
   "metadata": {},
   "outputs": [
    {
     "data": {
      "image/png": "[encoded data removed]",
      "text/plain": [
       "<Figure size 864x576 with 1 Axes>"
      ]
     },
     "metadata": {
      "needs_background": "light"
     },
     "output_type": "display_data"
    }
   ],
   "source": [
    "import statsmodels.api as sm\n",
    "from statsmodels.formula.api import ols\n",
    "from statsmodels.stats.outliers_influence import OLSInfluence\n",
    "# fit the regression model using statsmodels library \n",
    "f = 'np.exp(y_train) ~ np.exp(train_predict_ML)'\n",
    "model = ols(formula=f, data= X_train).fit()\n",
    "\n",
    "\n",
    "# calculate the cooks_distance - the OLSInfluence object contains multiple influence measurements\n",
    "cook_distance = OLSInfluence(model).cooks_distance\n",
    "(distance, p_value) = cook_distance\n",
    "\n",
    "# scatter plot - x axis (independent variable height), y-axis (dependent variable weight), size and color of the marks according to its cook's distance\n",
    "sns.scatterplot(x = np.exp(y_train), y = np.exp(train_predict_ML), hue=distance, size=distance, sizes=(50, 200), edgecolor='black', linewidth=1)\n",
    "\n",
    "# ticks\n",
    "plt.xticks(fontsize=14)\n",
    "plt.yticks(fontsize=14)\n",
    "\n",
    "# labels and title\n",
    "plt.xlabel('Sale Price', fontsize=14)\n",
    "plt.ylabel('Predicted Sale Price', fontsize=14)\n",
    "plt.title('Cook\\'s distance', fontsize=20);"
   ]
  },
  {
   "cell_type": "code",
   "execution_count": 19,
   "metadata": {},
   "outputs": [
    {
     "name": "stderr",
     "output_type": "stream",
     "text": [
      "/Applications/anaconda3/lib/python3.7/site-packages/ipykernel_launcher.py:4: UserWarning: In Matplotlib 3.3 individual lines on a stem plot will be added as a LineCollection instead of individual lines. This significantly improves the performance of a stem plot. To remove this warning and switch to the new behaviour, set the \"use_line_collection\" keyword argument to True.\n",
      "  after removing the cwd from sys.path.\n"
     ]
    },
    {
     "data": {
      "image/png": "[encoded data removed]",
      "text/plain": [
       "<Figure size 1080x720 with 1 Axes>"
      ]
     },
     "metadata": {
      "needs_background": "light"
     },
     "output_type": "display_data"
    }
   ],
   "source": [
    "threshold = 4/100 # can change this\n",
    "plt.figure(figsize=(15,10))\n",
    "# stem plot - the x-axis represents the index of the observation and the y-axis its Cook's distance\n",
    "plt.stem(distance.index, distance.values, basefmt=\" \")\n",
    "\n",
    "# horizontal line showing the threshold value\n",
    "plt.hlines(threshold, -2, 1459, 'r')\n",
    "\n",
    "# the observations with Cook's distances higher than the threshold value are labeled in the plot\n",
    "outlier_data = distance[distance > threshold]\n",
    "\n",
    "for index, value in outlier_data.items():\n",
    "    plt.text(index + 6, value, str(index), fontsize=14)\n",
    "\n",
    "# ticks\n",
    "plt.xticks(fontsize=14)\n",
    "plt.yticks(fontsize=14)\n",
    "\n",
    "# labels and title\n",
    "plt.xlabel('Row index(X_train)', fontsize=14)\n",
    "plt.ylabel('Cook\\'s distance', fontsize=14)\n",
    "plt.title('Cook\\'s distance', fontsize=20);"
   ]
  },
  {
   "cell_type": "code",
   "execution_count": 20,
   "metadata": {},
   "outputs": [
    {
     "data": {
      "text/plain": [
       "1182    1.062555\n",
       "178     0.054210\n",
       "523     0.227306\n",
       "1298    0.102877\n",
       "440     0.146828\n",
       "1169    0.238657\n",
       "803     0.193837\n",
       "185     0.065667\n",
       "473     0.046100\n",
       "dtype: float64"
      ]
     },
     "execution_count": 20,
     "metadata": {},
     "output_type": "execute_result"
    }
   ],
   "source": [
    "#Cook's distance greater than \n",
    "outlier_data"
   ]
  },
  {
   "cell_type": "code",
   "execution_count": 21,
   "metadata": {},
   "outputs": [
    {
     "data": {
      "text/plain": [
       "Int64Index([1182, 178, 523, 1298, 440, 1169, 803, 185, 473], dtype='int64')"
      ]
     },
     "execution_count": 21,
     "metadata": {},
     "output_type": "execute_result"
    }
   ],
   "source": [
    "outlier_data.index"
   ]
  },
  {
   "cell_type": "code",
   "execution_count": 22,
   "metadata": {},
   "outputs": [
    {
     "data": {
      "text/plain": [
       "(9, 259)"
      ]
     },
     "execution_count": 22,
     "metadata": {},
     "output_type": "execute_result"
    }
   ],
   "source": [
    "X_train.loc[outlier_data.index, :].shape"
   ]
  },
  {
   "cell_type": "code",
   "execution_count": 24,
   "metadata": {},
   "outputs": [],
   "source": [
    "X_train1 = X_train.drop(outlier_data.index, axis= 0)\n",
    "y_train1 = y_train.drop(outlier_data.index, axis = 0)"
   ]
  },
  {
   "cell_type": "markdown",
   "metadata": {},
   "source": [
    "# Ridge Regression"
   ]
  },
  {
   "cell_type": "code",
   "execution_count": 39,
   "metadata": {},
   "outputs": [],
   "source": [
    "from sklearn.linear_model import Ridge"
   ]
  },
  {
   "cell_type": "code",
   "execution_count": 40,
   "metadata": {},
   "outputs": [
    {
     "data": {
      "text/plain": [
       "0.8877814190162098"
      ]
     },
     "execution_count": 40,
     "metadata": {},
     "output_type": "execute_result"
    }
   ],
   "source": [
    "ridge = Ridge(normalize = True)\n",
    "ridge.set_params(alpha=1.0)\n",
    "ridge.fit(X_train, y_train)\n",
    "ridge.score(X_train, y_train)"
   ]
  },
  {
   "cell_type": "markdown",
   "metadata": {},
   "source": [
    "The accuracy score before getting best alpha for the train set in 90.67%"
   ]
  },
  {
   "cell_type": "code",
   "execution_count": 48,
   "metadata": {},
   "outputs": [],
   "source": [
    "#selecting the best alpha\n",
    "R2Ridge_train = []\n",
    "R2Ridge_test = []\n",
    "alphaRange = np.linspace(1e-3,200,20)\n",
    "for alpha in alphaRange:\n",
    "    ridge.set_params(alpha=alpha)  \n",
    "    ridge.fit(X_train1, y_train1)\n",
    "    R2Ridge_train.append(ridge.score(X_train1, y_train1))\n",
    "    R2Ridge_test.append(ridge.score(X_test, y_test))"
   ]
  },
  {
   "cell_type": "code",
   "execution_count": 50,
   "metadata": {},
   "outputs": [
    {
     "data": {
      "text/plain": [
       "0.9361308172915281"
      ]
     },
     "execution_count": 50,
     "metadata": {},
     "output_type": "execute_result"
    }
   ],
   "source": [
    "#Getting the maximum accuracy for train set\n",
    "R2_max_train = np.max(R2Ridge_train)\n",
    "R2_max_train"
   ]
  },
  {
   "cell_type": "code",
   "execution_count": 51,
   "metadata": {},
   "outputs": [
    {
     "data": {
      "text/plain": [
       "0.9004666880429748"
      ]
     },
     "execution_count": 51,
     "metadata": {},
     "output_type": "execute_result"
    }
   ],
   "source": [
    "#Getting the maximum accuracy and its corrresponding alpha for test set\n",
    "R2_max = np.max(R2Ridge_test)\n",
    "index = np.where(R2Ridge_test == R2_max)\n",
    "best_alpha = alphaRange[index]\n",
    "R2_max"
   ]
  },
  {
   "cell_type": "code",
   "execution_count": 46,
   "metadata": {},
   "outputs": [
    {
     "name": "stdout",
     "output_type": "stream",
     "text": [
      "The ridge score for the train set 0.936\n",
      "The ridge score for the test set 0.900\n",
      "--------------------------------------------------\n",
      "MAE for train set 0.069\n",
      "MAE for test set 0.099\n",
      "--------------------------------------------------\n",
      "RMSE for the train set 0.096\n",
      "RMSE for the test set 0.136\n"
     ]
    }
   ],
   "source": [
    "#Getting the R2, MAE and RMSE for the ridge regression.\n",
    "ridge.set_params(alpha = float(best_alpha))\n",
    "ridge.fit(X_train1, y_train1)\n",
    "\n",
    "train_predict_ridge = ridge.predict(X_train1)\n",
    "train_MAE = mean_absolute_error(y_train1, train_predict_ridge)\n",
    "train_RMSE = np.sqrt(mean_squared_error(y_train1, train_predict_ridge))\n",
    "\n",
    "test_predict_ridge = ridge.predict(X_test)\n",
    "test_MAE = mean_absolute_error(y_test, test_predict_ridge)\n",
    "test_RMSE = np.sqrt(mean_squared_error(y_test, test_predict_ridge))\n",
    "\n",
    "print('The ridge score for the train set %.3f' %ridge.score(X_train1, y_train1))\n",
    "print('The ridge score for the test set %.3f' %ridge.score(X_test, y_test))\n",
    "\n",
    "print('-' * 50)\n",
    "\n",
    "print('MAE for train set %.3f' %train_MAE)\n",
    "print('MAE for test set %.3f' %test_MAE)\n",
    "\n",
    "print('-' * 50)\n",
    "\n",
    "print('RMSE for the train set %.3f' %train_RMSE)\n",
    "print('RMSE for the test set %.3f' %test_RMSE)"
   ]
  },
  {
   "cell_type": "code",
   "execution_count": 157,
   "metadata": {},
   "outputs": [],
   "source": [
    "#appending the results\n",
    "results = results.append({'Model' : 'Ridge Regression' , 'R^2_train' :93.6, 'R^2_test' :90.0, 'MAE' : 0.099, 'RMSE' : 0.136, \n",
    "                          'y_test' : np.mean(np.exp(y_test)),'y_predicted' : np.mean(np.exp(test_predict_ridge))},\n",
    "               ignore_index = True)"
   ]
  },
  {
   "cell_type": "markdown",
   "metadata": {},
   "source": [
    "**The Ridge model also suffered overfitting but the accuracy improved 92.4 from to 93.6%**"
   ]
  },
  {
   "cell_type": "markdown",
   "metadata": {},
   "source": [
    "# Lasso Regression"
   ]
  },
  {
   "cell_type": "code",
   "execution_count": 52,
   "metadata": {},
   "outputs": [],
   "source": [
    "from sklearn.linear_model import Lasso, LassoCV\n",
    "lasso = Lasso(normalize = True)"
   ]
  },
  {
   "cell_type": "code",
   "execution_count": 53,
   "metadata": {},
   "outputs": [
    {
     "data": {
      "text/plain": [
       "Lasso(alpha=1.0, copy_X=True, fit_intercept=True, max_iter=1000, normalize=True,\n",
       "      positive=False, precompute=False, random_state=None, selection='cyclic',\n",
       "      tol=0.0001, warm_start=False)"
      ]
     },
     "execution_count": 53,
     "metadata": {},
     "output_type": "execute_result"
    }
   ],
   "source": [
    "lasso"
   ]
  },
  {
   "cell_type": "markdown",
   "metadata": {},
   "source": [
    "**Lasso with different alpha**"
   ]
  },
  {
   "cell_type": "code",
   "execution_count": 54,
   "metadata": {},
   "outputs": [],
   "source": [
    "R2Lasso_train = []\n",
    "R2Lasso_test = []\n",
    "alphaRange = np.linspace(1e-3,200,20)\n",
    "for alpha in alphaRange:\n",
    "    lasso.set_params(alpha=alpha)  \n",
    "    lasso.fit(X_train1, y_train1)\n",
    "    R2Lasso_train.append(lasso.score(X_train1, y_train1))\n",
    "    R2Lasso_test.append(lasso.score(X_test, y_test))"
   ]
  },
  {
   "cell_type": "code",
   "execution_count": 55,
   "metadata": {},
   "outputs": [],
   "source": [
    "LassoR2_max = np.max(R2Lasso_test)\n",
    "index_lasso = np.where(R2Lasso_test == LassoR2_max)\n",
    "best_alpha = alphaRange[index_lasso]"
   ]
  },
  {
   "cell_type": "code",
   "execution_count": 56,
   "metadata": {},
   "outputs": [
    {
     "data": {
      "text/plain": [
       "0.8527527212964936"
      ]
     },
     "execution_count": 56,
     "metadata": {},
     "output_type": "execute_result"
    }
   ],
   "source": [
    "LassoR2_max"
   ]
  },
  {
   "cell_type": "code",
   "execution_count": 57,
   "metadata": {},
   "outputs": [
    {
     "data": {
      "text/plain": [
       "array([0.001])"
      ]
     },
     "execution_count": 57,
     "metadata": {},
     "output_type": "execute_result"
    }
   ],
   "source": [
    "best_alpha"
   ]
  },
  {
   "cell_type": "code",
   "execution_count": 58,
   "metadata": {},
   "outputs": [],
   "source": [
    "R2_max_train = np.max(R2Lasso_train)"
   ]
  },
  {
   "cell_type": "code",
   "execution_count": 59,
   "metadata": {},
   "outputs": [
    {
     "data": {
      "text/plain": [
       "0.8551322691864842"
      ]
     },
     "execution_count": 59,
     "metadata": {},
     "output_type": "execute_result"
    }
   ],
   "source": [
    "R2_max_train"
   ]
  },
  {
   "cell_type": "markdown",
   "metadata": {},
   "source": [
    "**Lasso after 10 fold cross validationa and range of alpha**"
   ]
  },
  {
   "cell_type": "code",
   "execution_count": 60,
   "metadata": {},
   "outputs": [],
   "source": [
    "lassocv = LassoCV(alphas = alphaRange, normalize = True, cv = 5, max_iter = 10000)"
   ]
  },
  {
   "cell_type": "code",
   "execution_count": 73,
   "metadata": {},
   "outputs": [
    {
     "name": "stdout",
     "output_type": "stream",
     "text": [
      "R^2 train set: 0.855132\n",
      "R^2 test set: 0.852753\n",
      "--------------------------------------------------\n",
      "MAE for train set 0.103\n",
      "MAE for test set 0.113\n",
      "--------------------------------------------------\n",
      "RMSE for train data is: 0.145\n",
      "RMSE for test data is: 0.166\n"
     ]
    }
   ],
   "source": [
    "#Getting the R2, MAE and RMSE for the lasso regression.\n",
    "lassocv.fit(X_train1, y_train1)\n",
    "best_alpha_lasso = lassocv.alpha_\n",
    "\n",
    "\n",
    "train_predict_lasso = lassocv.predict(X_train1)\n",
    "train_MAE_lasso = mean_absolute_error(y_train1, train_predict_lasso)\n",
    "train_RMSE_lasso = np.sqrt(mean_squared_error(y_train1, train_predict_lasso))\n",
    "\n",
    "test_predict_lasso = lassocv.predict(X_test)\n",
    "test_MAE_lasso = mean_absolute_error(y_test, test_predict_lasso)\n",
    "test_RMSE_lasso = np.sqrt(mean_squared_error(y_test, test_predict_lasso))\n",
    "\n",
    "\n",
    "\n",
    "print(\"R^2 train set: %f\" %lassocv.score(X_train1, y_train1))\n",
    "print(\"R^2 test set: %f\" %lassocv.score(X_test, y_test))\n",
    "print('-' * 50)\n",
    "\n",
    "print('MAE for train set %.3f' %train_MAE_lasso)\n",
    "print('MAE for test set %.3f' %test_MAE_lasso)\n",
    "\n",
    "print('-' * 50)\n",
    "\n",
    "\n",
    "print('RMSE for train data is: %.3f' % train_RMSE_lasso)\n",
    "print('RMSE for test data is: %.3f' % test_RMSE_lasso)"
   ]
  },
  {
   "cell_type": "markdown",
   "metadata": {},
   "source": [
    "The before and after cross validation the best lambda is 0.001 and the accuracy had gone down but the variance has also reduced. The accuracy for the train set is 85.5% and the test set is 85.27%"
   ]
  },
  {
   "cell_type": "code",
   "execution_count": 158,
   "metadata": {},
   "outputs": [],
   "source": [
    "results = results.append({'Model' : 'Lasso Regression' , 'R^2_train' :85.5, 'R^2_test' :85.2, 'MAE' : 0.133, 'RMSE' : 0.168, \n",
    "                          'y_test' : np.mean(np.exp(y_test)),'y_predicted' : np.mean(np.exp(test_predict_lasso))},\n",
    "               ignore_index = True)"
   ]
  },
  {
   "cell_type": "code",
   "execution_count": 65,
   "metadata": {},
   "outputs": [
    {
     "data": {
      "text/html": [
       "<div>\n",
       "<style scoped>\n",
       "    .dataframe tbody tr th:only-of-type {\n",
       "        vertical-align: middle;\n",
       "    }\n",
       "\n",
       "    .dataframe tbody tr th {\n",
       "        vertical-align: top;\n",
       "    }\n",
       "\n",
       "    .dataframe thead th {\n",
       "        text-align: right;\n",
       "    }\n",
       "</style>\n",
       "<table border=\"1\" class=\"dataframe\">\n",
       "  <thead>\n",
       "    <tr style=\"text-align: right;\">\n",
       "      <th></th>\n",
       "      <th>Model</th>\n",
       "      <th>R^2_train</th>\n",
       "      <th>R^2_test</th>\n",
       "      <th>MAE</th>\n",
       "      <th>RMSE</th>\n",
       "      <th>y_test</th>\n",
       "      <th>y_predicted</th>\n",
       "    </tr>\n",
       "  </thead>\n",
       "  <tbody>\n",
       "    <tr>\n",
       "      <th>0</th>\n",
       "      <td>Multiple Regression</td>\n",
       "      <td>92.4</td>\n",
       "      <td>89.6</td>\n",
       "      <td>0.108</td>\n",
       "      <td>0.139</td>\n",
       "      <td>178839.811644</td>\n",
       "      <td>175780.252775</td>\n",
       "    </tr>\n",
       "    <tr>\n",
       "      <th>1</th>\n",
       "      <td>Ridge Regression</td>\n",
       "      <td>93.6</td>\n",
       "      <td>90.0</td>\n",
       "      <td>0.099</td>\n",
       "      <td>0.136</td>\n",
       "      <td>178839.811644</td>\n",
       "      <td>177306.200829</td>\n",
       "    </tr>\n",
       "    <tr>\n",
       "      <th>2</th>\n",
       "      <td>Lasso Regression</td>\n",
       "      <td>85.5</td>\n",
       "      <td>85.2</td>\n",
       "      <td>0.133</td>\n",
       "      <td>0.168</td>\n",
       "      <td>178839.811644</td>\n",
       "      <td>172971.511394</td>\n",
       "    </tr>\n",
       "  </tbody>\n",
       "</table>\n",
       "</div>"
      ],
      "text/plain": [
       "                 Model  R^2_train  R^2_test    MAE   RMSE         y_test  \\\n",
       "0  Multiple Regression       92.4      89.6  0.108  0.139  178839.811644   \n",
       "1     Ridge Regression       93.6      90.0  0.099  0.136  178839.811644   \n",
       "2     Lasso Regression       85.5      85.2  0.133  0.168  178839.811644   \n",
       "\n",
       "     y_predicted  \n",
       "0  175780.252775  \n",
       "1  177306.200829  \n",
       "2  172971.511394  "
      ]
     },
     "execution_count": 65,
     "metadata": {},
     "output_type": "execute_result"
    }
   ],
   "source": [
    "results"
   ]
  },
  {
   "cell_type": "code",
   "execution_count": 66,
   "metadata": {},
   "outputs": [],
   "source": [
    "#Creating the coefficiens dataframe  \n",
    "coefs_lasso = pd.DataFrame(abs(lassocv.coef_))\n",
    "LassoFeatures_coef = pd.concat([pd.DataFrame(X_train.columns), coefs_lasso], axis = 1)\n",
    "LassoFeatures_coef.columns = ['Feature', 'Coef']"
   ]
  },
  {
   "cell_type": "code",
   "execution_count": 67,
   "metadata": {},
   "outputs": [
    {
     "data": {
      "text/html": [
       "<div>\n",
       "<style scoped>\n",
       "    .dataframe tbody tr th:only-of-type {\n",
       "        vertical-align: middle;\n",
       "    }\n",
       "\n",
       "    .dataframe tbody tr th {\n",
       "        vertical-align: top;\n",
       "    }\n",
       "\n",
       "    .dataframe thead th {\n",
       "        text-align: right;\n",
       "    }\n",
       "</style>\n",
       "<table border=\"1\" class=\"dataframe\">\n",
       "  <thead>\n",
       "    <tr style=\"text-align: right;\">\n",
       "      <th></th>\n",
       "      <th>Feature</th>\n",
       "      <th>Coef</th>\n",
       "    </tr>\n",
       "  </thead>\n",
       "  <tbody>\n",
       "    <tr>\n",
       "      <th>0</th>\n",
       "      <td>LotFrontage</td>\n",
       "      <td>0.000000e+00</td>\n",
       "    </tr>\n",
       "    <tr>\n",
       "      <th>1</th>\n",
       "      <td>LotArea</td>\n",
       "      <td>3.296943e-07</td>\n",
       "    </tr>\n",
       "    <tr>\n",
       "      <th>2</th>\n",
       "      <td>LandSlope</td>\n",
       "      <td>0.000000e+00</td>\n",
       "    </tr>\n",
       "    <tr>\n",
       "      <th>3</th>\n",
       "      <td>OverallQual</td>\n",
       "      <td>7.150170e-02</td>\n",
       "    </tr>\n",
       "    <tr>\n",
       "      <th>4</th>\n",
       "      <td>YearBuilt</td>\n",
       "      <td>0.000000e+00</td>\n",
       "    </tr>\n",
       "    <tr>\n",
       "      <th>...</th>\n",
       "      <td>...</td>\n",
       "      <td>...</td>\n",
       "    </tr>\n",
       "    <tr>\n",
       "      <th>254</th>\n",
       "      <td>SaleCondition_AdjLand</td>\n",
       "      <td>0.000000e+00</td>\n",
       "    </tr>\n",
       "    <tr>\n",
       "      <th>255</th>\n",
       "      <td>SaleCondition_Alloca</td>\n",
       "      <td>0.000000e+00</td>\n",
       "    </tr>\n",
       "    <tr>\n",
       "      <th>256</th>\n",
       "      <td>SaleCondition_Family</td>\n",
       "      <td>0.000000e+00</td>\n",
       "    </tr>\n",
       "    <tr>\n",
       "      <th>257</th>\n",
       "      <td>SaleCondition_Normal</td>\n",
       "      <td>0.000000e+00</td>\n",
       "    </tr>\n",
       "    <tr>\n",
       "      <th>258</th>\n",
       "      <td>SaleCondition_Partial</td>\n",
       "      <td>0.000000e+00</td>\n",
       "    </tr>\n",
       "  </tbody>\n",
       "</table>\n",
       "<p>259 rows × 2 columns</p>\n",
       "</div>"
      ],
      "text/plain": [
       "                   Feature          Coef\n",
       "0              LotFrontage  0.000000e+00\n",
       "1                  LotArea  3.296943e-07\n",
       "2                LandSlope  0.000000e+00\n",
       "3              OverallQual  7.150170e-02\n",
       "4                YearBuilt  0.000000e+00\n",
       "..                     ...           ...\n",
       "254  SaleCondition_AdjLand  0.000000e+00\n",
       "255   SaleCondition_Alloca  0.000000e+00\n",
       "256   SaleCondition_Family  0.000000e+00\n",
       "257   SaleCondition_Normal  0.000000e+00\n",
       "258  SaleCondition_Partial  0.000000e+00\n",
       "\n",
       "[259 rows x 2 columns]"
      ]
     },
     "execution_count": 67,
     "metadata": {},
     "output_type": "execute_result"
    }
   ],
   "source": [
    "LassoFeatures_coef"
   ]
  },
  {
   "cell_type": "code",
   "execution_count": 68,
   "metadata": {},
   "outputs": [
    {
     "data": {
      "text/html": [
       "<div>\n",
       "<style scoped>\n",
       "    .dataframe tbody tr th:only-of-type {\n",
       "        vertical-align: middle;\n",
       "    }\n",
       "\n",
       "    .dataframe tbody tr th {\n",
       "        vertical-align: top;\n",
       "    }\n",
       "\n",
       "    .dataframe thead th {\n",
       "        text-align: right;\n",
       "    }\n",
       "</style>\n",
       "<table border=\"1\" class=\"dataframe\">\n",
       "  <thead>\n",
       "    <tr style=\"text-align: right;\">\n",
       "      <th></th>\n",
       "      <th>Feature</th>\n",
       "      <th>Coef</th>\n",
       "    </tr>\n",
       "  </thead>\n",
       "  <tbody>\n",
       "    <tr>\n",
       "      <th>30</th>\n",
       "      <td>TotalSF</td>\n",
       "      <td>1.308470e-01</td>\n",
       "    </tr>\n",
       "    <tr>\n",
       "      <th>3</th>\n",
       "      <td>OverallQual</td>\n",
       "      <td>7.150170e-02</td>\n",
       "    </tr>\n",
       "    <tr>\n",
       "      <th>21</th>\n",
       "      <td>GarageCars</td>\n",
       "      <td>5.238319e-02</td>\n",
       "    </tr>\n",
       "    <tr>\n",
       "      <th>31</th>\n",
       "      <td>TotalBath</td>\n",
       "      <td>3.710930e-02</td>\n",
       "    </tr>\n",
       "    <tr>\n",
       "      <th>56</th>\n",
       "      <td>MSZoning_RM</td>\n",
       "      <td>3.659220e-02</td>\n",
       "    </tr>\n",
       "    <tr>\n",
       "      <th>18</th>\n",
       "      <td>KitchenQual</td>\n",
       "      <td>3.584993e-02</td>\n",
       "    </tr>\n",
       "    <tr>\n",
       "      <th>137</th>\n",
       "      <td>CentralAir_Y</td>\n",
       "      <td>3.076461e-02</td>\n",
       "    </tr>\n",
       "    <tr>\n",
       "      <th>7</th>\n",
       "      <td>ExterQual</td>\n",
       "      <td>1.058532e-02</td>\n",
       "    </tr>\n",
       "    <tr>\n",
       "      <th>20</th>\n",
       "      <td>FireplaceQu</td>\n",
       "      <td>7.722767e-03</td>\n",
       "    </tr>\n",
       "    <tr>\n",
       "      <th>9</th>\n",
       "      <td>BsmtExposure</td>\n",
       "      <td>2.384001e-03</td>\n",
       "    </tr>\n",
       "    <tr>\n",
       "      <th>34</th>\n",
       "      <td>RemodelAge</td>\n",
       "      <td>9.068563e-04</td>\n",
       "    </tr>\n",
       "    <tr>\n",
       "      <th>33</th>\n",
       "      <td>Age</td>\n",
       "      <td>4.889341e-04</td>\n",
       "    </tr>\n",
       "    <tr>\n",
       "      <th>12</th>\n",
       "      <td>GrLivArea</td>\n",
       "      <td>2.176525e-05</td>\n",
       "    </tr>\n",
       "    <tr>\n",
       "      <th>1</th>\n",
       "      <td>LotArea</td>\n",
       "      <td>3.296943e-07</td>\n",
       "    </tr>\n",
       "  </tbody>\n",
       "</table>\n",
       "</div>"
      ],
      "text/plain": [
       "          Feature          Coef\n",
       "30        TotalSF  1.308470e-01\n",
       "3     OverallQual  7.150170e-02\n",
       "21     GarageCars  5.238319e-02\n",
       "31      TotalBath  3.710930e-02\n",
       "56    MSZoning_RM  3.659220e-02\n",
       "18    KitchenQual  3.584993e-02\n",
       "137  CentralAir_Y  3.076461e-02\n",
       "7       ExterQual  1.058532e-02\n",
       "20    FireplaceQu  7.722767e-03\n",
       "9    BsmtExposure  2.384001e-03\n",
       "34     RemodelAge  9.068563e-04\n",
       "33            Age  4.889341e-04\n",
       "12      GrLivArea  2.176525e-05\n",
       "1         LotArea  3.296943e-07"
      ]
     },
     "execution_count": 68,
     "metadata": {},
     "output_type": "execute_result"
    }
   ],
   "source": [
    "#Selecting only the coeefients greater than zero(imp feature selection)\n",
    "lasso_selectedFeatures = LassoFeatures_coef[LassoFeatures_coef['Coef'] > 0]\n",
    "lasso_selectedFeatures = lasso_selectedFeatures.sort_values(by = 'Coef', ascending = False)\n",
    "lasso_selectedFeatures"
   ]
  },
  {
   "cell_type": "code",
   "execution_count": 69,
   "metadata": {},
   "outputs": [
    {
     "data": {
      "text/plain": [
       "<matplotlib.axes._subplots.AxesSubplot at 0x7fa46d335a10>"
      ]
     },
     "execution_count": 69,
     "metadata": {},
     "output_type": "execute_result"
    },
    {
     "data": {
      "image/png": "[encoded data removed]",
      "text/plain": [
       "<Figure size 864x576 with 1 Axes>"
      ]
     },
     "metadata": {
      "needs_background": "light"
     },
     "output_type": "display_data"
    }
   ],
   "source": [
    "sns.barplot(x=\"Coef\", y=\"Feature\", data=lasso_selectedFeatures,palette=\"magma\" )"
   ]
  },
  {
   "cell_type": "markdown",
   "metadata": {},
   "source": [
    "## Refitting the multiple regression model with Lasso selected features"
   ]
  },
  {
   "cell_type": "code",
   "execution_count": 180,
   "metadata": {},
   "outputs": [],
   "source": [
    "selected_feature = lasso_selectedFeatures['Feature'].to_list()\n",
    "X_train_selFeat = X_train1[selected_feature]\n",
    "X_test_selFeat = X_test[selected_feature]"
   ]
  },
  {
   "cell_type": "code",
   "execution_count": 71,
   "metadata": {},
   "outputs": [
    {
     "name": "stdout",
     "output_type": "stream",
     "text": [
      "R^2 train set: 0.885002\n",
      "R^2 test set: 0.882125\n",
      "--------------------------------------------------\n",
      "MAE for train data is: 0.095\n",
      "MAE for test data is: 0.104\n",
      "--------------------------------------------------\n",
      "RMSE for train data is: 0.129\n",
      "RMSE for test data is: 0.148\n"
     ]
    }
   ],
   "source": [
    "#Getting the R2, MAE and RMSE for the multiple regression with lasso selected features.\n",
    "mlr = LinearRegression()\n",
    "\n",
    "mlr.fit(X_train_selFeat, y_train1) #multiple linear regression with lasso best features\n",
    "\n",
    "y_trainpredicted_mlr = mlr.predict(X_train_selFeat)\n",
    "RMSE_train2 = np.sqrt(mean_squared_error(y_train1, y_trainpredicted_mlr))\n",
    "MAE_train2 = mean_absolute_error(y_train1, y_trainpredicted_mlr)\n",
    "\n",
    "\n",
    "y_testpredicted_mlr = mlr.predict(X_test_selFeat)\n",
    "RMSE_test2 = np.sqrt(mean_squared_error(y_test,y_testpredicted_mlr))\n",
    "MAE_test2 = mean_absolute_error(y_test,y_testpredicted_mlr)\n",
    "\n",
    "\n",
    "#print(\"Best Lambda: \" + str(alpha_lasso3))\n",
    "print(\"R^2 train set: %f\" %mlr.score(X_train_selFeat, y_train1))\n",
    "print(\"R^2 test set: %f\" %mlr.score(X_test_selFeat, y_test))\n",
    "\n",
    "print('-'*50)\n",
    "\n",
    "print('MAE for train data is: %.3f' % MAE_train2)\n",
    "print('MAE for test data is: %.3f' % MAE_test2)\n",
    "\n",
    "print('-'*50)\n",
    "\n",
    "print('RMSE for train data is: %.3f' % RMSE_train2)\n",
    "print('RMSE for test data is: %.3f' % RMSE_test2)"
   ]
  },
  {
   "cell_type": "code",
   "execution_count": 159,
   "metadata": {},
   "outputs": [],
   "source": [
    "results = results.append({'Model' : 'Multiple Regression(Improvised)' , 'R^2_train' :88.5, 'R^2_test' :88.2, 'MAE' : 0.336, 'RMSE' : 0.166, \n",
    "                          'y_test' : np.mean(np.exp(y_test)),'y_predicted' : np.mean(np.exp(y_testpredicted_mlr))},\n",
    "               ignore_index = True)\n"
   ]
  },
  {
   "cell_type": "markdown",
   "metadata": {},
   "source": [
    "# Random Forest"
   ]
  },
  {
   "cell_type": "code",
   "execution_count": 74,
   "metadata": {},
   "outputs": [],
   "source": [
    "from sklearn import ensemble\n",
    "import sklearn.model_selection as ms\n",
    "randomForest = ensemble.RandomForestRegressor()"
   ]
  },
  {
   "cell_type": "code",
   "execution_count": 75,
   "metadata": {},
   "outputs": [
    {
     "name": "stdout",
     "output_type": "stream",
     "text": [
      "The training accuracy is: 0.981\n",
      "The test accuracy is: 0.875\n"
     ]
    }
   ],
   "source": [
    "randomForest.set_params(random_state=0)\n",
    "\n",
    "randomForest.fit(X_train1, y_train1) \n",
    "\n",
    "print(\"The training accuracy is: %.3f\" % (randomForest.score(X_train1, y_train1)))\n",
    "print(\"The test accuracy is: %.3f\" % (randomForest.score(X_test, y_test)))"
   ]
  },
  {
   "cell_type": "markdown",
   "metadata": {},
   "source": [
    "**Random Forest with grisd search and cross validation**"
   ]
  },
  {
   "cell_type": "code",
   "execution_count": 76,
   "metadata": {},
   "outputs": [
    {
     "name": "stdout",
     "output_type": "stream",
     "text": [
      "CPU times: user 608 ms, sys: 86.6 ms, total: 694 ms\n",
      "Wall time: 4.9 s\n"
     ]
    },
    {
     "data": {
      "text/plain": [
       "GridSearchCV(cv=5, error_score=nan,\n",
       "             estimator=RandomForestRegressor(bootstrap=True, ccp_alpha=0.0,\n",
       "                                             criterion='mse', max_depth=None,\n",
       "                                             max_features='auto',\n",
       "                                             max_leaf_nodes=None,\n",
       "                                             max_samples=None,\n",
       "                                             min_impurity_decrease=0.0,\n",
       "                                             min_impurity_split=None,\n",
       "                                             min_samples_leaf=1,\n",
       "                                             min_samples_split=2,\n",
       "                                             min_weight_fraction_leaf=0.0,\n",
       "                                             n_estimators=100, n_jobs=None,\n",
       "                                             oob_score=False, random_state=0,\n",
       "                                             verbose=0, warm_start=False),\n",
       "             iid='deprecated', n_jobs=-1,\n",
       "             param_grid={'criterion': ['mse'], 'max_depth': [15],\n",
       "                         'max_features': [15], 'min_samples_leaf': [2],\n",
       "                         'min_samples_split': [2], 'n_estimators': [150],\n",
       "                         'random_state': [42]},\n",
       "             pre_dispatch='2*n_jobs', refit=True, return_train_score=False,\n",
       "             scoring='r2', verbose=0)"
      ]
     },
     "execution_count": 76,
     "metadata": {},
     "output_type": "execute_result"
    }
   ],
   "source": [
    "grid_para_forest = {'criterion': ['mse'],\n",
    "                    'min_samples_split': [2],\n",
    "                    'max_depth': [15],\n",
    "                    'n_estimators': [150],\n",
    "                    'min_samples_leaf':[2],\n",
    "                     \n",
    "                \n",
    "                    'max_features': [15],\n",
    "                   \n",
    "                    'random_state' :[42]}\n",
    "grid_search_forest = ms.GridSearchCV(randomForest, grid_para_forest, scoring='r2',cv=5, n_jobs=-1)\n",
    "%time grid_search_forest.fit(X_train1, y_train1)"
   ]
  },
  {
   "cell_type": "code",
   "execution_count": 77,
   "metadata": {},
   "outputs": [
    {
     "data": {
      "text/plain": [
       "{'criterion': 'mse',\n",
       " 'max_depth': 15,\n",
       " 'max_features': 15,\n",
       " 'min_samples_leaf': 2,\n",
       " 'min_samples_split': 2,\n",
       " 'n_estimators': 150,\n",
       " 'random_state': 42}"
      ]
     },
     "execution_count": 77,
     "metadata": {},
     "output_type": "execute_result"
    }
   ],
   "source": [
    "grid_search_forest.best_params_"
   ]
  },
  {
   "cell_type": "code",
   "execution_count": 135,
   "metadata": {},
   "outputs": [
    {
     "name": "stdout",
     "output_type": "stream",
     "text": [
      "The best score for train set is 0.859\n",
      "The test score is: 0.849\n",
      "--------------------------------------------------\n",
      "MAE for train data is: 0.059\n",
      "MAE for test data is: 0.105\n",
      "--------------------------------------------------\n",
      "RMSE for train data is: 0.088\n",
      "RMSE for test data is: 0.168\n"
     ]
    }
   ],
   "source": [
    "#Getting the R2, MAE and RMSE for the Random Forest.\n",
    "\n",
    "y_trainpredicted_RF = grid_search_forest.predict(X_train1)\n",
    "RMSE_train = np.sqrt(mean_squared_error(y_train1, y_trainpredicted_RF))\n",
    "MAE_train = mean_absolute_error(y_train1, y_trainpredicted_RF)\n",
    "\n",
    "\n",
    "y_testpredicted_RF = grid_search_forest.predict(X_test)\n",
    "RMSE_test = np.sqrt(mean_squared_error(y_test,y_testpredicted_RF))\n",
    "MAE_test = mean_absolute_error(y_test,y_testpredicted_RF)\n",
    "\n",
    "print(\"The best score for train set is %.3f\" %grid_search_forest.best_score_)\n",
    "print(\"The test score is: %.3f\" % (grid_search_forest.score(X_test, y_test)))\n",
    "\n",
    "\n",
    "print('-'*50)\n",
    "\n",
    "print('MAE for train data is: %.3f' % MAE_train)\n",
    "print('MAE for test data is: %.3f' % MAE_test)\n",
    "\n",
    "print('-'*50)\n",
    "\n",
    "print('RMSE for train data is: %.3f' % RMSE_train)\n",
    "print('RMSE for test data is: %.3f' % RMSE_test)"
   ]
  },
  {
   "cell_type": "code",
   "execution_count": 160,
   "metadata": {},
   "outputs": [],
   "source": [
    "results = results.append({'Model' : 'Random Forest' , 'R^2_train' :85.9, 'R^2_test' :84.9, 'MAE' : 0.105, 'RMSE' : 0.168, \n",
    "                          'y_test' : np.mean(np.exp(y_test)),'y_predicted' : np.mean(np.exp(y_testpredicted_RF))},\n",
    "               ignore_index = True)\n"
   ]
  },
  {
   "cell_type": "code",
   "execution_count": 79,
   "metadata": {},
   "outputs": [],
   "source": [
    "randomForest_best_fit= grid_search_forest.best_estimator_.fit(X_train1, y_train1) "
   ]
  },
  {
   "cell_type": "code",
   "execution_count": 80,
   "metadata": {},
   "outputs": [
    {
     "data": {
      "text/plain": [
       "Text(0, 0.5, '')"
      ]
     },
     "execution_count": 80,
     "metadata": {},
     "output_type": "execute_result"
    },
    {
     "data": {
      "image/png": "[encoded data removed]",
      "text/plain": [
       "<Figure size 864x576 with 1 Axes>"
      ]
     },
     "metadata": {
      "needs_background": "light"
     },
     "output_type": "display_data"
    }
   ],
   "source": [
    "importance = sorted(list(zip(X_train1.columns, list(randomForest_best_fit.feature_importances_))),\n",
    "                    key=lambda t:t[1], reverse=True)\n",
    "a, b = zip(*importance)\n",
    "importance_score = pd.DataFrame({'feature':a, 'Coef':b})\n",
    "\n",
    "ax = sns.barplot(x=\"Coef\", y=\"feature\", data=importance_score[0:15], palette=\"crest\")\n",
    "ax.set_title('Top 15 Important feature by Random Forest Model')\n",
    "ax.set_xlabel('Features Importance')\n",
    "ax.set_ylabel('')\n"
   ]
  },
  {
   "cell_type": "markdown",
   "metadata": {},
   "source": [
    "# XG Boost"
   ]
  },
  {
   "cell_type": "markdown",
   "metadata": {},
   "source": [
    "**XG Boost with grid search and cross validation**"
   ]
  },
  {
   "cell_type": "code",
   "execution_count": 153,
   "metadata": {},
   "outputs": [
    {
     "name": "stdout",
     "output_type": "stream",
     "text": [
      "Best parameters:\n",
      "{'gamma': 0, 'learning_rate': 0.01, 'max_depth': 5, 'min_child_weight': 1, 'n_estimators': 775, 'random_state': 42, 'reg_alpha': 0, 'subsample': 0.5}\n",
      "The training accuracy is: 0.891\n",
      "The test accuracy is: 0.890\n"
     ]
    },
    {
     "name": "stderr",
     "output_type": "stream",
     "text": [
      "/Applications/anaconda3/lib/python3.7/site-packages/xgboost/data.py:114: UserWarning: Use subset (sliced data) of np.ndarray is not recommended because it will generate extra copies and increase memory consumption\n",
      "  \"because it will generate extra copies and increase \" +\n"
     ]
    }
   ],
   "source": [
    "from xgboost import XGBRegressor\n",
    "from sklearn.model_selection import GridSearchCV\n",
    "\n",
    "\n",
    "params = {'gamma' : [0],\n",
    "          'learning_rate' : [0.01],\n",
    "          'max_depth' : [5],\n",
    "          'min_child_weight' : [1],\n",
    "                        'n_estimators' : [775],\n",
    "                        'random_state' : [42],\n",
    "                        'reg_alpha' : [0],\n",
    "                        'subsample' : [0.5]}\n",
    "\n",
    "xgb = XGBRegressor()\n",
    "\n",
    "grid_search_xgb = GridSearchCV(xgb, param_grid=params, n_jobs=7, cv=5)\n",
    "\n",
    "grid_search_xgb.fit(X_train1, y_train1)\n",
    "\n",
    "print('Best parameters:')\n",
    "print(grid_search_xgb.best_params_)\n",
    "\n",
    "print(\"The training accuracy is: %.3f\" % (grid_search_xgb.best_score_))\n",
    "print(\"The test accuracy is: %.3f\" % (grid_search_xgb.best_estimator_.score(X_test, y_test)))\n"
   ]
  },
  {
   "cell_type": "code",
   "execution_count": 154,
   "metadata": {},
   "outputs": [
    {
     "name": "stdout",
     "output_type": "stream",
     "text": [
      "MAE for train data is: 0.057\n",
      "MAE for test data is: 0.093\n",
      "--------------------------------------------------\n",
      "RMSE for train data is: 0.073\n",
      "RMSE for test data is: 0.144\n"
     ]
    },
    {
     "name": "stderr",
     "output_type": "stream",
     "text": [
      "/Applications/anaconda3/lib/python3.7/site-packages/xgboost/data.py:114: UserWarning: Use subset (sliced data) of np.ndarray is not recommended because it will generate extra copies and increase memory consumption\n",
      "  \"because it will generate extra copies and increase \" +\n",
      "/Applications/anaconda3/lib/python3.7/site-packages/xgboost/data.py:114: UserWarning: Use subset (sliced data) of np.ndarray is not recommended because it will generate extra copies and increase memory consumption\n",
      "  \"because it will generate extra copies and increase \" +\n"
     ]
    }
   ],
   "source": [
    "#predicting MAE and RMSE values\n",
    "y_trainpredicted_xgb = grid_search_xgb.predict(X_train1)\n",
    "RMSE_train = np.sqrt(mean_squared_error(y_train1, y_trainpredicted_xgb))\n",
    "MAE_train = mean_absolute_error(y_train1, y_trainpredicted_xgb)\n",
    "\n",
    "\n",
    "y_testpredicted_xgb = grid_search_xgb.predict(X_test)\n",
    "RMSE_test = np.sqrt(mean_squared_error(y_test,y_testpredicted_xgb))\n",
    "MAE_test = mean_absolute_error(y_test,y_testpredicted_xgb)\n",
    "\n",
    "\n",
    "\n",
    "\n",
    "print('MAE for train data is: %.3f' % MAE_train)\n",
    "print('MAE for test data is: %.3f' % MAE_test)\n",
    "\n",
    "print('-'*50)\n",
    "\n",
    "print('RMSE for train data is: %.3f' % RMSE_train)\n",
    "print('RMSE for test data is: %.3f' % RMSE_test)"
   ]
  },
  {
   "cell_type": "code",
   "execution_count": 111,
   "metadata": {},
   "outputs": [],
   "source": [
    "XGB_bestfit = grid_search_xgb.best_estimator_.fit(X_train, y_train)"
   ]
  },
  {
   "cell_type": "code",
   "execution_count": 113,
   "metadata": {},
   "outputs": [
    {
     "data": {
      "text/plain": [
       "Text(0, 0.5, '')"
      ]
     },
     "execution_count": 113,
     "metadata": {},
     "output_type": "execute_result"
    },
    {
     "data": {
      "image/png": "[encoded data removed]",
      "text/plain": [
       "<Figure size 864x576 with 1 Axes>"
      ]
     },
     "metadata": {
      "needs_background": "light"
     },
     "output_type": "display_data"
    }
   ],
   "source": [
    "#Feature importance by XG boost\n",
    "importance = sorted(list(zip(X_train1.columns, list(XGB_bestfit.feature_importances_))),\n",
    "                    key=lambda t:t[1], reverse=True)\n",
    "a, b = zip(*importance)\n",
    "importance_score = pd.DataFrame({'feature':a, 'Coef':b})\n",
    "\n",
    "ax = sns.barplot(x=\"Coef\", y=\"feature\", data=importance_score[0:15], palette=\"flare\")\n",
    "ax.set_title('Top 15 Important feature by XG Boost Model')\n",
    "ax.set_xlabel('Features Importance')\n",
    "ax.set_ylabel('')"
   ]
  },
  {
   "cell_type": "code",
   "execution_count": 161,
   "metadata": {},
   "outputs": [
    {
     "data": {
      "text/html": [
       "<div>\n",
       "<style scoped>\n",
       "    .dataframe tbody tr th:only-of-type {\n",
       "        vertical-align: middle;\n",
       "    }\n",
       "\n",
       "    .dataframe tbody tr th {\n",
       "        vertical-align: top;\n",
       "    }\n",
       "\n",
       "    .dataframe thead th {\n",
       "        text-align: right;\n",
       "    }\n",
       "</style>\n",
       "<table border=\"1\" class=\"dataframe\">\n",
       "  <thead>\n",
       "    <tr style=\"text-align: right;\">\n",
       "      <th></th>\n",
       "      <th>Model</th>\n",
       "      <th>R^2_train</th>\n",
       "      <th>R^2_test</th>\n",
       "      <th>MAE</th>\n",
       "      <th>RMSE</th>\n",
       "      <th>y_test</th>\n",
       "      <th>y_predicted</th>\n",
       "    </tr>\n",
       "  </thead>\n",
       "  <tbody>\n",
       "    <tr>\n",
       "      <th>0</th>\n",
       "      <td>Multiple Regression</td>\n",
       "      <td>92.4</td>\n",
       "      <td>89.6</td>\n",
       "      <td>0.108</td>\n",
       "      <td>0.139</td>\n",
       "      <td>178839.811644</td>\n",
       "      <td>175780.252775</td>\n",
       "    </tr>\n",
       "    <tr>\n",
       "      <th>1</th>\n",
       "      <td>Ridge Regression</td>\n",
       "      <td>93.6</td>\n",
       "      <td>90.0</td>\n",
       "      <td>0.099</td>\n",
       "      <td>0.136</td>\n",
       "      <td>178839.811644</td>\n",
       "      <td>177306.200829</td>\n",
       "    </tr>\n",
       "    <tr>\n",
       "      <th>2</th>\n",
       "      <td>Lasso Regression</td>\n",
       "      <td>85.5</td>\n",
       "      <td>85.2</td>\n",
       "      <td>0.133</td>\n",
       "      <td>0.168</td>\n",
       "      <td>178839.811644</td>\n",
       "      <td>172971.511394</td>\n",
       "    </tr>\n",
       "    <tr>\n",
       "      <th>3</th>\n",
       "      <td>Multiple Regression(Improvised)</td>\n",
       "      <td>88.5</td>\n",
       "      <td>88.2</td>\n",
       "      <td>0.336</td>\n",
       "      <td>0.166</td>\n",
       "      <td>178839.811644</td>\n",
       "      <td>176551.520841</td>\n",
       "    </tr>\n",
       "    <tr>\n",
       "      <th>4</th>\n",
       "      <td>Random Forest</td>\n",
       "      <td>85.9</td>\n",
       "      <td>84.9</td>\n",
       "      <td>0.105</td>\n",
       "      <td>0.168</td>\n",
       "      <td>178839.811644</td>\n",
       "      <td>173339.151793</td>\n",
       "    </tr>\n",
       "    <tr>\n",
       "      <th>5</th>\n",
       "      <td>XG Boost</td>\n",
       "      <td>89.1</td>\n",
       "      <td>89.0</td>\n",
       "      <td>0.093</td>\n",
       "      <td>0.144</td>\n",
       "      <td>178839.811644</td>\n",
       "      <td>175192.328125</td>\n",
       "    </tr>\n",
       "  </tbody>\n",
       "</table>\n",
       "</div>"
      ],
      "text/plain": [
       "                             Model  R^2_train  R^2_test    MAE   RMSE  \\\n",
       "0              Multiple Regression       92.4      89.6  0.108  0.139   \n",
       "1                 Ridge Regression       93.6      90.0  0.099  0.136   \n",
       "2                 Lasso Regression       85.5      85.2  0.133  0.168   \n",
       "3  Multiple Regression(Improvised)       88.5      88.2  0.336  0.166   \n",
       "4                    Random Forest       85.9      84.9  0.105  0.168   \n",
       "5                         XG Boost       89.1      89.0  0.093  0.144   \n",
       "\n",
       "          y_test    y_predicted  \n",
       "0  178839.811644  175780.252775  \n",
       "1  178839.811644  177306.200829  \n",
       "2  178839.811644  172971.511394  \n",
       "3  178839.811644  176551.520841  \n",
       "4  178839.811644  173339.151793  \n",
       "5  178839.811644  175192.328125  "
      ]
     },
     "execution_count": 161,
     "metadata": {},
     "output_type": "execute_result"
    }
   ],
   "source": [
    "results = results.append({'Model' : 'XG Boost' , 'R^2_train' :89.1, 'R^2_test' :89.0, 'MAE' : 0.093, 'RMSE' : 0.144, \n",
    "                          'y_test' : np.mean(np.exp(y_test)),'y_predicted' : np.mean(np.exp(y_testpredicted_xgb))},\n",
    "               ignore_index = True)\n",
    "results"
   ]
  },
  {
   "cell_type": "markdown",
   "metadata": {},
   "source": [
    "# Conclusion"
   ]
  },
  {
   "cell_type": "markdown",
   "metadata": {},
   "source": [
    "Among all the Linear models,the intial Multile regression model have issues of overfitting due to the issue of multicollinearity. However the performace of the model was better with data modified by  feature selction by lasso. The XG boost also performed much better with lower RMSE values. But due simplicity of interpretretation of model and good featur selection, Multiple linear regreesion model was chosed"
   ]
  },
  {
   "cell_type": "code",
   "execution_count": 170,
   "metadata": {},
   "outputs": [
    {
     "data": {
      "text/plain": [
       "<matplotlib.legend.Legend at 0x7fa45841db90>"
      ]
     },
     "execution_count": 170,
     "metadata": {},
     "output_type": "execute_result"
    },
    {
     "data": {
      "image/png": "[encoded data removed]",
      "text/plain": [
       "<Figure size 864x576 with 1 Axes>"
      ]
     },
     "metadata": {
      "needs_background": "light"
     },
     "output_type": "display_data"
    }
   ],
   "source": [
    "#Comparative study of the different accuracy scores of various models\n",
    "results.plot(x = 'Model', y = ['R^2_train', 'R^2_test'], kind = 'bar')\n",
    "plt.title('Scores for train and test data for various models')\n",
    "plt.ylabel('R2 scores')\n",
    "plt.legend(bbox_to_anchor=(1.05, 1), loc='upper left')\n"
   ]
  },
  {
   "cell_type": "code",
   "execution_count": 174,
   "metadata": {},
   "outputs": [
    {
     "data": {
      "text/plain": [
       "<matplotlib.axes._subplots.AxesSubplot at 0x7fa456b4bf90>"
      ]
     },
     "execution_count": 174,
     "metadata": {},
     "output_type": "execute_result"
    },
    {
     "data": {
      "image/png": "[encoded data removed]",
      "text/plain": [
       "<Figure size 864x576 with 1 Axes>"
      ]
     },
     "metadata": {
      "needs_background": "light"
     },
     "output_type": "display_data"
    }
   ],
   "source": [
    "#Comparision of the various RMSE values of various models\n",
    "results.plot(x = 'Model', y = ['RMSE'], kind = 'bar', color = 'green')"
   ]
  },
  {
   "cell_type": "markdown",
   "metadata": {},
   "source": [
    "## Multiple regression on actual test data"
   ]
  },
  {
   "cell_type": "code",
   "execution_count": 175,
   "metadata": {},
   "outputs": [
    {
     "data": {
      "text/plain": [
       "177648.3157393558"
      ]
     },
     "execution_count": 175,
     "metadata": {},
     "output_type": "execute_result"
    }
   ],
   "source": [
    "pr1 = np.mean(np.exp(y_trainpredicted_mlr))\n",
    "pr1"
   ]
  },
  {
   "cell_type": "code",
   "execution_count": 195,
   "metadata": {},
   "outputs": [],
   "source": [
    "test_selFeat = test_final[selected_feature]\n",
    "test_predict = mlr.predict(test_selFeat)"
   ]
  },
  {
   "cell_type": "code",
   "execution_count": 196,
   "metadata": {},
   "outputs": [
    {
     "data": {
      "text/plain": [
       "182444.37130685445"
      ]
     },
     "execution_count": 196,
     "metadata": {},
     "output_type": "execute_result"
    }
   ],
   "source": [
    "test_saleprice = np.mean(np.exp(test_predict))\n",
    "test_saleprice"
   ]
  },
  {
   "cell_type": "code",
   "execution_count": 201,
   "metadata": {},
   "outputs": [
    {
     "data": {
      "text/plain": [
       "<matplotlib.legend.Legend at 0x7fa4582e7590>"
      ]
     },
     "execution_count": 201,
     "metadata": {},
     "output_type": "execute_result"
    },
    {
     "data": {
      "image/png": "[encoded data removed]",
      "text/plain": [
       "<Figure size 864x576 with 1 Axes>"
      ]
     },
     "metadata": {},
     "output_type": "display_data"
    }
   ],
   "source": [
    "sns.set(style=\"darkgrid\")\n",
    "\n",
    "sns.histplot(x=np.exp(train_predict_ridge), color=\"skyblue\", label=\"Train predicted Sale Price; Mean = 177648\", kde=True)\n",
    "sns.histplot(x= np.exp(test_predict_ridge), color=\"red\", label=\"Test predicted Sale Price: Mean = 182444\", kde=True)\n",
    "\n",
    "plt.title('The sale price of the train set and actual test set')\n",
    "plt.legend() \n"
   ]
  },
  {
   "cell_type": "markdown",
   "metadata": {},
   "source": [
    "When the multiple regression model was fitted in the actual test data, the mean sale price was approx 182,000 and for the train data it was 178,000 with a difference of approxmately $4000 which is quite reasonable"
   ]
  },
  {
   "cell_type": "markdown",
   "metadata": {},
   "source": [
    "The feature selection by Lasso as well as XG boost also revel that the sale price depends a lot on the overall quality as well as the quality of exterior, kitchen and garage. Remodeeling or upgrading the overall quality would definately give good price for the house."
   ]
  },
  {
   "cell_type": "code",
   "execution_count": null,
   "metadata": {},
   "outputs": [],
   "source": []
  }
 ],
 "metadata": {
  "kernelspec": {
   "display_name": "Python 3",
   "language": "python",
   "name": "python3"
  },
  "language_info": {
   "codemirror_mode": {
    "name": "ipython",
    "version": 3
   },
   "file_extension": ".py",
   "mimetype": "text/x-python",
   "name": "python",
   "nbconvert_exporter": "python",
   "pygments_lexer": "ipython3",
   "version": "3.7.4"
  }
 },
 "nbformat": 4,
 "nbformat_minor": 4
}
